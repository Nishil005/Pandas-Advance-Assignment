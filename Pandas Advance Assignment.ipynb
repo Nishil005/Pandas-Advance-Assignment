{
 "cells": [
  {
   "cell_type": "markdown",
   "id": "a9444990-0c4c-4c80-85c6-04e8ab05f11b",
   "metadata": {},
   "source": [
    "Q1. List any five functions of the pandas library with execution."
   ]
  },
  {
   "cell_type": "code",
   "execution_count": 5,
   "id": "69280b83-2b6b-46c2-806b-732990b75eda",
   "metadata": {},
   "outputs": [
    {
     "name": "stdout",
     "output_type": "stream",
     "text": [
      "   PassengerId  Survived  Pclass  \\\n",
      "0            1         0       3   \n",
      "1            2         1       1   \n",
      "2            3         1       3   \n",
      "3            4         1       1   \n",
      "4            5         0       3   \n",
      "\n",
      "                                                Name     Sex   Age  SibSp  \\\n",
      "0                            Braund, Mr. Owen Harris    male  22.0      1   \n",
      "1  Cumings, Mrs. John Bradley (Florence Briggs Th...  female  38.0      1   \n",
      "2                             Heikkinen, Miss. Laina  female  26.0      0   \n",
      "3       Futrelle, Mrs. Jacques Heath (Lily May Peel)  female  35.0      1   \n",
      "4                           Allen, Mr. William Henry    male  35.0      0   \n",
      "\n",
      "   Parch            Ticket     Fare Cabin Embarked  \n",
      "0      0         A/5 21171   7.2500   NaN        S  \n",
      "1      0          PC 17599  71.2833   C85        C  \n",
      "2      0  STON/O2. 3101282   7.9250   NaN        S  \n",
      "3      0            113803  53.1000  C123        S  \n",
      "4      0            373450   8.0500   NaN        S  \n"
     ]
    }
   ],
   "source": [
    "#read_csv(): This function is used to read data from a CSV file and create a DataFrame.\n",
    "import pandas as pd\n",
    "# Read CSV file and create DataFrame\n",
    "data = pd.read_csv(\"https://raw.githubusercontent.com/datasciencedojo/datasets/master/titanic.csv\")\n",
    "print(data.head())"
   ]
  },
  {
   "cell_type": "code",
   "execution_count": 11,
   "id": "110c23f8-a33c-47a4-8562-4685f2fb1f39",
   "metadata": {},
   "outputs": [
    {
     "data": {
      "text/html": [
       "<div>\n",
       "<style scoped>\n",
       "    .dataframe tbody tr th:only-of-type {\n",
       "        vertical-align: middle;\n",
       "    }\n",
       "\n",
       "    .dataframe tbody tr th {\n",
       "        vertical-align: top;\n",
       "    }\n",
       "\n",
       "    .dataframe thead th {\n",
       "        text-align: right;\n",
       "    }\n",
       "</style>\n",
       "<table border=\"1\" class=\"dataframe\">\n",
       "  <thead>\n",
       "    <tr style=\"text-align: right;\">\n",
       "      <th></th>\n",
       "      <th>A</th>\n",
       "      <th>B</th>\n",
       "    </tr>\n",
       "  </thead>\n",
       "  <tbody>\n",
       "    <tr>\n",
       "      <th>0</th>\n",
       "      <td>1</td>\n",
       "      <td>a</td>\n",
       "    </tr>\n",
       "    <tr>\n",
       "      <th>1</th>\n",
       "      <td>2</td>\n",
       "      <td>b</td>\n",
       "    </tr>\n",
       "    <tr>\n",
       "      <th>2</th>\n",
       "      <td>3</td>\n",
       "      <td>c</td>\n",
       "    </tr>\n",
       "  </tbody>\n",
       "</table>\n",
       "</div>"
      ],
      "text/plain": [
       "   A  B\n",
       "0  1  a\n",
       "1  2  b\n",
       "2  3  c"
      ]
     },
     "execution_count": 11,
     "metadata": {},
     "output_type": "execute_result"
    }
   ],
   "source": [
    "#head(): It returns the first n rows of a DataFrame. By default, it returns the first 5 rows.\n",
    "data1 = pd.DataFrame({'A': [1, 2, 3, 4, 5], 'B': ['a', 'b', 'c', 'd', 'e']})\n",
    "data1.head(3)"
   ]
  },
  {
   "cell_type": "code",
   "execution_count": 12,
   "id": "d20c6af3-7a27-4f2f-99ec-9f3a6ca12666",
   "metadata": {},
   "outputs": [
    {
     "name": "stdout",
     "output_type": "stream",
     "text": [
      "<class 'pandas.core.frame.DataFrame'>\n",
      "RangeIndex: 5 entries, 0 to 4\n",
      "Data columns (total 2 columns):\n",
      " #   Column  Non-Null Count  Dtype \n",
      "---  ------  --------------  ----- \n",
      " 0   A       5 non-null      int64 \n",
      " 1   B       5 non-null      object\n",
      "dtypes: int64(1), object(1)\n",
      "memory usage: 208.0+ bytes\n"
     ]
    }
   ],
   "source": [
    "#info(): It provides a summary of the DataFrame, including the data types of each column and the number of non-null values.\n",
    "# Create a DataFrame\n",
    "data2 = pd.DataFrame({'A': [1, 2, 3, 4, 5], 'B': ['a', 'b', 'c', 'd', 'e']})\n",
    "# Get summary information\n",
    "data2.info()"
   ]
  },
  {
   "cell_type": "code",
   "execution_count": 13,
   "id": "b7a02f23-6aae-4044-ba83-f44d2243d1c5",
   "metadata": {},
   "outputs": [
    {
     "name": "stdout",
     "output_type": "stream",
     "text": [
      "Name\n",
      "Alice      87.5\n",
      "Bob        90.0\n",
      "Charlie    78.0\n",
      "Name: Score, dtype: float64\n"
     ]
    }
   ],
   "source": [
    "#groupby(): This function is used to group the data based on one or more columns, allowing further analysis or computations to be performed on the grouped data.\n",
    "# Create a DataFrame\n",
    "data3 = pd.DataFrame({'Name': ['Alice', 'Bob', 'Charlie', 'Alice', 'Bob'],\n",
    "                     'Score': [85, 92, 78, 90, 88]})\n",
    "# Group the data by 'Name' and calculate the average score\n",
    "grouped_data = data3.groupby('Name')\n",
    "average_score = grouped_data['Score'].mean()\n",
    "print(average_score)\n"
   ]
  },
  {
   "cell_type": "code",
   "execution_count": 9,
   "id": "ff6cb71f-931e-45c7-a43e-275263e29cb7",
   "metadata": {},
   "outputs": [
    {
     "name": "stdout",
     "output_type": "stream",
     "text": [
      "   A  B  C\n",
      "0  3  6  7\n"
     ]
    }
   ],
   "source": [
    "#merge(): It is used to combine two or more DataFrames based on a common column or index.\n",
    "# Create two DataFrames\n",
    "df1 = pd.DataFrame({'A': [1, 2, 3], 'B': [4, 5, 6]})\n",
    "df2 = pd.DataFrame({'A': [3, 4, 5], 'C': [7, 8, 9]})\n",
    "\n",
    "# Merge the DataFrames on column 'A'\n",
    "merged_data = pd.merge(df1, df2, on='A')\n",
    "print(merged_data)"
   ]
  },
  {
   "cell_type": "markdown",
   "id": "49fcadfc-df1e-47d5-8823-d268582fb13e",
   "metadata": {},
   "source": [
    "Q2. Given a Pandas DataFrame df with columns 'A', 'B', and 'C', write a Python function to re-index the\n",
    "DataFrame with a new index that starts from 1 and increments by 2 for each row."
   ]
  },
  {
   "cell_type": "code",
   "execution_count": 14,
   "id": "e55f406b-00e6-4bea-9023-ef50a884afc1",
   "metadata": {},
   "outputs": [
    {
     "name": "stdout",
     "output_type": "stream",
     "text": [
      "    A   B   C\n",
      "1  10  40  70\n",
      "3  20  50  80\n",
      "5  30  60  90\n"
     ]
    }
   ],
   "source": [
    "def reindex_dataframe(df):\n",
    "    new_index = pd.RangeIndex(start=1, stop=len(df)*2, step=2)\n",
    "    df_reindexed = df.copy()\n",
    "    df_reindexed.index = new_index\n",
    "    return df_reindexed\n",
    "\n",
    "df = pd.DataFrame({'A': [10, 20, 30], 'B': [40, 50, 60], 'C': [70, 80, 90]})\n",
    "# Reindex the DataFrame\n",
    "df_reindexed = reindex_dataframe(df)\n",
    "\n",
    "print(df_reindexed)"
   ]
  },
  {
   "cell_type": "markdown",
   "id": "12975733-fb2d-437e-9854-ee408b6b057a",
   "metadata": {},
   "source": [
    "Q3. You have a Pandas DataFrame df with a column named 'Values'. Write a Python function that\n",
    "iterates over the DataFrame and calculates the sum of the first three values in the 'Values' column. The\n",
    "function should print the sum to the console.\n",
    "\n",
    "For example, if the 'Values' column of df contains the values [10, 20, 30, 40, 50], your function should\n",
    "calculate and print the sum of the first three values, which is 60."
   ]
  },
  {
   "cell_type": "code",
   "execution_count": 15,
   "id": "afc15def-83b6-4e35-9490-dab02fd08d59",
   "metadata": {},
   "outputs": [
    {
     "name": "stdout",
     "output_type": "stream",
     "text": [
      "Sum of the first three values: 60\n"
     ]
    }
   ],
   "source": [
    "import pandas as pd\n",
    "\n",
    "def calculate_sum_of_first_three(df):\n",
    "    values_column = df['Values']\n",
    "    sum_of_first_three = sum(values_column[:3])\n",
    "    print(\"Sum of the first three values:\", sum_of_first_three)\n",
    "\n",
    "# Example usage:\n",
    "df = pd.DataFrame({'Values': [10, 20, 30, 40, 50]})\n",
    "\n",
    "# Calculate the sum of the first three values\n",
    "calculate_sum_of_first_three(df)\n"
   ]
  },
  {
   "cell_type": "markdown",
   "id": "9df07d04-a888-4743-8a11-f23bc9cbeb40",
   "metadata": {},
   "source": [
    "Q4. Given a Pandas DataFrame df with a column 'Text', write a Python function to create a new column\n",
    "'Word_Count' that contains the number of words in each row of the 'Text' column."
   ]
  },
  {
   "cell_type": "code",
   "execution_count": 16,
   "id": "83cd8c33-2b1e-404d-ab70-9a3a117df074",
   "metadata": {},
   "outputs": [
    {
     "name": "stdout",
     "output_type": "stream",
     "text": [
      "                 Text  Word_Count\n",
      "0         Hello world           2\n",
      "1  This is a sentence           4\n",
      "2   Python is awesome           3\n"
     ]
    }
   ],
   "source": [
    "import pandas as pd\n",
    "\n",
    "def add_word_count_column(df):\n",
    "    df['Word_Count'] = df['Text'].apply(lambda x: len(str(x).split()))\n",
    "    return df\n",
    "\n",
    "# Example usage:\n",
    "df = pd.DataFrame({'Text': ['Hello world', 'This is a sentence', 'Python is awesome']})\n",
    "\n",
    "# Add the 'Word_Count' column\n",
    "df_with_word_count = add_word_count_column(df)\n",
    "\n",
    "print(df_with_word_count)\n"
   ]
  },
  {
   "cell_type": "markdown",
   "id": "1f8feb40-064f-4131-b323-6e5eb17fcadf",
   "metadata": {},
   "source": [
    "Q5. How are DataFrame.size() and DataFrame.shape() different?"
   ]
  },
  {
   "cell_type": "markdown",
   "id": "d401e6c6-20e2-4741-8512-b07e25311e6c",
   "metadata": {},
   "source": [
    "The DataFrame.size and DataFrame.shape attributes in pandas provide different information about the dimensions of a DataFrame:\n",
    "\n",
    "DataFrame.size:\n",
    "DataFrame.size returns the total number of elements in the DataFrame, which is calculated by multiplying the number of rows by the number of columns.\n",
    "It represents the total size of the DataFrame in terms of the number of values.\n",
    "The returned value is an integer.\n",
    "\n",
    "DataFrame.shape:\n",
    "DataFrame.shape returns a tuple representing the dimensions of the DataFrame.\n",
    "It provides the number of rows followed by the number of columns in the DataFrame.\n",
    "The returned value is a tuple of integers."
   ]
  },
  {
   "cell_type": "markdown",
   "id": "d1b000c9-9839-489d-8de3-8b3e0489317b",
   "metadata": {},
   "source": [
    "Q6. Which function of pandas do we use to read an excel file?"
   ]
  },
  {
   "cell_type": "code",
   "execution_count": 20,
   "id": "dffbc42a-0732-4002-96de-e22444f18896",
   "metadata": {},
   "outputs": [
    {
     "name": "stdout",
     "output_type": "stream",
     "text": [
      "  FEES PER MONTH  Unnamed: 1\n",
      "0        CLASS 5        2000\n",
      "1        CLASS 6        2000\n",
      "2        CLASS 7        4000\n",
      "3        CLASS 8        5000\n",
      "4        CLASS 9        6000\n"
     ]
    }
   ],
   "source": [
    "import pandas as pd\n",
    "\n",
    "# Read Excel file and create DataFrame\n",
    "df = pd.read_excel('FEES CHART.xlsx')\n",
    "\n",
    "# Perform operations on the DataFrame\n",
    "print(df.head())\n"
   ]
  },
  {
   "cell_type": "markdown",
   "id": "efd80d66-9404-4a7d-9bea-40799667c097",
   "metadata": {},
   "source": [
    "Q7. You have a Pandas DataFrame df that contains a column named 'Email' that contains email\n",
    "addresses in the format 'username@domain.com'. Write a Python function that creates a new column\n",
    "'Username' in df that contains only the username part of each email address.\n",
    "The username is the part of the email address that appears before the '@' symbol. For example, if the\n",
    "email address is 'john.doe@example.com', the 'Username' column should contain 'john.doe'. Your\n",
    "function should extract the username from each email address and store it in the new 'Username'\n",
    "column."
   ]
  },
  {
   "cell_type": "code",
   "execution_count": 21,
   "id": "d87f3ab4-7a95-45d2-a5c9-97a79c953650",
   "metadata": {},
   "outputs": [
    {
     "name": "stdout",
     "output_type": "stream",
     "text": [
      "                    Email    Username\n",
      "0    john.doe@example.com    john.doe\n",
      "1  jane.smith@example.com  jane.smith\n"
     ]
    }
   ],
   "source": [
    "import pandas as pd\n",
    "\n",
    "def extract_username(df):\n",
    "    df['Username'] = df['Email'].str.split('@').str[0]\n",
    "    return df\n",
    "\n",
    "# Example usage:\n",
    "df = pd.DataFrame({'Email': ['john.doe@example.com', 'jane.smith@example.com']})\n",
    "\n",
    "# Extract the username and create the 'Username' column\n",
    "df_with_username = extract_username(df)\n",
    "\n",
    "print(df_with_username)\n"
   ]
  },
  {
   "cell_type": "markdown",
   "id": "98a20703-26b0-4cc5-bec1-7b2a7addb5a7",
   "metadata": {},
   "source": [
    "Q8. You have a Pandas DataFrame df with columns 'A', 'B', and 'C'. Write a Python function that selects\n",
    "all rows where the value in column 'A' is greater than 5 and the value in column 'B' is less than 10. The\n",
    "function should return a new DataFrame that contains only the selected rows.\n",
    "For example, if df contains the following values:\n",
    "A B C\n",
    "0 3 5 1\n",
    "1 8 2 7\n",
    "2 6 9 4\n",
    "3 2 3 5\n",
    "4 9 1 2\n",
    "Your function should select the following rows: A B C\n",
    "1 8 2 7\n",
    "4 9 1 2\n",
    "The function should return a new DataFrame that contains only the selected rows."
   ]
  },
  {
   "cell_type": "code",
   "execution_count": 22,
   "id": "9744869c-a8f2-41e3-8b43-2dbdca6dfeb0",
   "metadata": {},
   "outputs": [
    {
     "name": "stdout",
     "output_type": "stream",
     "text": [
      "   A  B  C\n",
      "1  8  2  7\n",
      "2  6  9  4\n",
      "4  9  1  2\n"
     ]
    }
   ],
   "source": [
    "import pandas as pd\n",
    "\n",
    "def select_rows(df):\n",
    "    selected_rows = df[(df['A'] > 5) & (df['B'] < 10)]\n",
    "    return selected_rows\n",
    "\n",
    "# Example usage:\n",
    "df = pd.DataFrame({'A': [3, 8, 6, 2, 9],\n",
    "                   'B': [5, 2, 9, 3, 1],\n",
    "                   'C': [1, 7, 4, 5, 2]})\n",
    "\n",
    "# Select rows based on conditions\n",
    "selected_df = select_rows(df)\n",
    "\n",
    "print(selected_df)\n"
   ]
  },
  {
   "cell_type": "markdown",
   "id": "d712465f-b345-4906-9d97-ea79b132e060",
   "metadata": {},
   "source": [
    "Q9. Given a Pandas DataFrame df with a column 'Values', write a Python function to calculate the mean,\n",
    "median, and standard deviation of the values in the 'Values' column."
   ]
  },
  {
   "cell_type": "code",
   "execution_count": 24,
   "id": "8a71233e-f916-42cf-b028-56cea49c5db3",
   "metadata": {},
   "outputs": [
    {
     "name": "stdout",
     "output_type": "stream",
     "text": [
      "Mean: 30.0\n",
      "Median: 30.0\n",
      "Standard Deviation: 15.811388300841896\n"
     ]
    }
   ],
   "source": [
    "import pandas as pd\n",
    "\n",
    "def calculate_statistics(df):\n",
    "    values_column = df3['Values']\n",
    "    mean = values_column.mean()\n",
    "    median = values_column.median()\n",
    "    std_dev = values_column.std()\n",
    "    return mean, median, std_dev\n",
    "\n",
    "# Example usage:\n",
    "df3 = pd.DataFrame({'Values': [10, 20, 30, 40, 50]})\n",
    "\n",
    "# Calculate statistics for the 'Values' column\n",
    "mean_val, median_val, std_dev_val = calculate_statistics(df3['Values'])\n",
    "\n",
    "print(\"Mean:\", mean_val)\n",
    "print(\"Median:\", median_val)\n",
    "print(\"Standard Deviation:\", std_dev_val)\n"
   ]
  },
  {
   "cell_type": "markdown",
   "id": "d1b870ba-98da-4d36-b9fe-01bd136c0b49",
   "metadata": {},
   "source": [
    "Q10. Given a Pandas DataFrame df with a column 'Sales' and a column 'Date', write a Python function to\n",
    "create a new column 'MovingAverage' that contains the moving average of the sales for the past 7 days\n",
    "for each row in the DataFrame. The moving average should be calculated using a window of size 7 and\n",
    "should include the current day."
   ]
  },
  {
   "cell_type": "code",
   "execution_count": 1,
   "id": "9ff8648e-f3a1-49d6-a546-c119313d8f2a",
   "metadata": {},
   "outputs": [
    {
     "name": "stdout",
     "output_type": "stream",
     "text": [
      "        Date  Sales  MovingAverage\n",
      "0 2023-01-01     10           10.0\n",
      "1 2023-01-02     20           15.0\n",
      "2 2023-01-03     30           20.0\n",
      "3 2023-01-04     40           25.0\n",
      "4 2023-01-05     50           30.0\n",
      "5 2023-01-06     60           35.0\n",
      "6 2023-01-07     70           40.0\n",
      "7 2023-01-08     80           50.0\n",
      "8 2023-01-09     90           60.0\n",
      "9 2023-01-10    100           70.0\n"
     ]
    }
   ],
   "source": [
    "import pandas as pd\n",
    "\n",
    "def calculate_moving_average(df):\n",
    "    window_size = 7\n",
    "    df['MovingAverage'] = df['Sales'].rolling(window_size, min_periods=1).mean()\n",
    "    return df\n",
    "\n",
    "# Example usage:\n",
    "df = pd.DataFrame({'Date': pd.date_range(start='2023-01-01', periods=10),\n",
    "                   'Sales': [10, 20, 30, 40, 50, 60, 70, 80, 90, 100]})\n",
    "\n",
    "# Calculate the moving average with a window size of 7\n",
    "df_with_ma = calculate_moving_average(df)\n",
    "\n",
    "print(df_with_ma)\n"
   ]
  },
  {
   "cell_type": "markdown",
   "id": "45c38496-35ce-461f-be5a-bac79a230d1f",
   "metadata": {},
   "source": [
    "Q11. You have a Pandas DataFrame df with a column 'Date'. Write a Python function that creates a new\n",
    "column 'Weekday' in the DataFrame. The 'Weekday' column should contain the weekday name (e.g.\n",
    "Monday, Tuesday) corresponding to each date in the 'Date' column.\n",
    "For example, if df contains the following values:\n",
    "Date\n",
    "0 2023-01-01\n",
    "1 2023-01-02\n",
    "2 2023-01-03\n",
    "3 2023-01-04\n",
    "4 2023-01-05\n",
    "Your function should create the following DataFrame:\n",
    "\n",
    "Date Weekday\n",
    "0 2023-01-01 Sunday\n",
    "1 2023-01-02 Monday\n",
    "2 2023-01-03 Tuesday\n",
    "3 2023-01-04 Wednesday\n",
    "4 2023-01-05 Thursday\n",
    "The function should return the modified DataFrame."
   ]
  },
  {
   "cell_type": "code",
   "execution_count": 2,
   "id": "81b80658-c722-4ad7-aca5-d1cc36bca344",
   "metadata": {},
   "outputs": [
    {
     "name": "stdout",
     "output_type": "stream",
     "text": [
      "        Date    Weekday\n",
      "0 2023-01-01     Sunday\n",
      "1 2023-01-02     Monday\n",
      "2 2023-01-03    Tuesday\n",
      "3 2023-01-04  Wednesday\n",
      "4 2023-01-05   Thursday\n"
     ]
    }
   ],
   "source": [
    "import pandas as pd\n",
    "\n",
    "def add_weekday_column(df):\n",
    "    df['Weekday'] = df['Date'].dt.day_name()\n",
    "    return df\n",
    "\n",
    "# Example usage:\n",
    "df = pd.DataFrame({'Date': pd.to_datetime(['2023-01-01', '2023-01-02', '2023-01-03', '2023-01-04', '2023-01-05'])})\n",
    "\n",
    "# Add the 'Weekday' column\n",
    "df_with_weekday = add_weekday_column(df)\n",
    "\n",
    "print(df_with_weekday)\n"
   ]
  },
  {
   "cell_type": "markdown",
   "id": "b1d08377-0573-4d6a-b636-35a73790e23e",
   "metadata": {},
   "source": [
    "Q12. Given a Pandas DataFrame df with a column 'Date' that contains timestamps, write a Python\n",
    "function to select all rows where the date is between '2023-01-01' and '2023-01-31'.\n"
   ]
  },
  {
   "cell_type": "code",
   "execution_count": 3,
   "id": "05c6dbc3-1fbf-44ee-982c-1d3c081f5ecd",
   "metadata": {},
   "outputs": [
    {
     "name": "stdout",
     "output_type": "stream",
     "text": [
      "        Date  Value\n",
      "0 2023-01-01     10\n",
      "1 2023-01-15     20\n",
      "3 2023-01-10     40\n"
     ]
    }
   ],
   "source": [
    "import pandas as pd\n",
    "\n",
    "def select_rows_by_date(df, start_date, end_date):\n",
    "    mask = (df['Date'] >= start_date) & (df['Date'] <= end_date)\n",
    "    selected_rows = df.loc[mask]\n",
    "    return selected_rows\n",
    "\n",
    "# Example usage:\n",
    "df = pd.DataFrame({'Date': pd.to_datetime(['2023-01-01', '2023-01-15', '2023-02-05', '2023-01-10']),\n",
    "                   'Value': [10, 20, 30, 40]})\n",
    "\n",
    "# Select rows between '2023-01-01' and '2023-01-31'\n",
    "start_date = pd.to_datetime('2023-01-01')\n",
    "end_date = pd.to_datetime('2023-01-31')\n",
    "selected_df = select_rows_by_date(df, start_date, end_date)\n",
    "\n",
    "print(selected_df)\n"
   ]
  },
  {
   "cell_type": "markdown",
   "id": "3d7c19b2-d3a4-48af-980d-f65352aba9d3",
   "metadata": {},
   "source": [
    "Q13. To use the basic functions of pandas, what is the first and foremost necessary library that needs to\n",
    "be imported?"
   ]
  },
  {
   "cell_type": "code",
   "execution_count": 4,
   "id": "d65d5df8-61cd-4f69-8d13-ef03ba16886f",
   "metadata": {},
   "outputs": [],
   "source": [
    "import pandas as pd\n"
   ]
  },
  {
   "cell_type": "code",
   "execution_count": null,
   "id": "d3cb69c4-123d-407c-a7f2-d0c732e5978c",
   "metadata": {},
   "outputs": [],
   "source": []
  }
 ],
 "metadata": {
  "kernelspec": {
   "display_name": "Python 3 (ipykernel)",
   "language": "python",
   "name": "python3"
  },
  "language_info": {
   "codemirror_mode": {
    "name": "ipython",
    "version": 3
   },
   "file_extension": ".py",
   "mimetype": "text/x-python",
   "name": "python",
   "nbconvert_exporter": "python",
   "pygments_lexer": "ipython3",
   "version": "3.10.8"
  }
 },
 "nbformat": 4,
 "nbformat_minor": 5
}
